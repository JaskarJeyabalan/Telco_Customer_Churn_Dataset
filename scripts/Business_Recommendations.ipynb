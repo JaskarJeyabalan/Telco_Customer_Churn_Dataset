{
  "nbformat": 4,
  "nbformat_minor": 0,
  "metadata": {
    "colab": {
      "provenance": []
    },
    "kernelspec": {
      "name": "python3",
      "display_name": "Python 3"
    },
    "language_info": {
      "name": "python"
    }
  },
  "cells": [
    {
      "cell_type": "markdown",
      "source": [
        "Task 6: Business Recommendations"
      ],
      "metadata": {
        "id": "W4XPttK7EaM0"
      }
    },
    {
      "cell_type": "code",
      "source": [
        "# Business Recommendations\n",
        "\n",
        "print(\"Business Recommendations:\")\n",
        "print(\"Focus retention efforts on customers with short tenure (0–12 months).\")\n",
        "print(\"Offer incentives for long-term contracts to reduce churn.\")\n",
        "print(\"Target high monthly charge customers with loyalty programs.\")\n",
        "print(\"Improve service quality for customers using fiber or DSL.\")"
      ],
      "metadata": {
        "colab": {
          "base_uri": "https://localhost:8080/"
        },
        "id": "aaFYTtKREZQ3",
        "outputId": "df4c0527-4674-4609-a229-980a5f73de4c"
      },
      "execution_count": 35,
      "outputs": [
        {
          "output_type": "stream",
          "name": "stdout",
          "text": [
            "Business Recommendations:\n",
            "Focus retention efforts on customers with short tenure (0–12 months).\n",
            "Offer incentives for long-term contracts to reduce churn.\n",
            "Target high monthly charge customers with loyalty programs.\n",
            "Improve service quality for customers using fiber or DSL.\n"
          ]
        }
      ]
    }
  ]
}