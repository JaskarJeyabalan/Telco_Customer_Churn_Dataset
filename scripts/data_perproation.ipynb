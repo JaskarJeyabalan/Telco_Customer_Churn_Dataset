{
  "cells": [
    {
      "cell_type": "markdown",
      "metadata": {
        "id": "MPC_ymhVQ-fl"
      },
      "source": [
        "Task 1: Data Perproation"
      ]
    },
    {
      "cell_type": "code",
      "execution_count": null,
      "metadata": {
        "colab": {
          "base_uri": "https://localhost:8080/"
        },
        "id": "nBob2zgJUmLI",
        "outputId": "a2d2d55b-6faa-4a1f-825d-25649a570209"
      },
      "outputs": [
        {
          "name": "stdout",
          "output_type": "stream",
          "text": [
            "Total Customers:  7043\n",
            "Total Row & Columns:  (7043, 21)\n"
          ]
        }
      ],
      "source": [
        "import pandas as pd\n",
        "import numpy as np\n",
        "\n",
        "path = '/content/Telco_Customer_Churn_Dataset  (3).csv'\n",
        "df = pd.read_csv(path)\n",
        "print(\"Total Customers: \", len(df))\n",
        "print(\"Total Row & Columns: \", df.shape)\n"
      ]
    },
    {
      "cell_type": "code",
      "execution_count": 2,
      "metadata": {
        "colab": {
          "base_uri": "https://localhost:8080/",
          "height": 342
        },
        "id": "tsM1ChjxNRiZ",
        "outputId": "9c0ac4c9-9012-4bb4-b170-2349d7cf3316"
      },
      "outputs": [
        {
          "data": {
            "application/vnd.microsoft.datawrangler.viewer.v0+json": {
              "columns": [
                {
                  "name": "index",
                  "rawType": "int64",
                  "type": "integer"
                },
                {
                  "name": "customerID",
                  "rawType": "object",
                  "type": "string"
                },
                {
                  "name": "gender",
                  "rawType": "object",
                  "type": "string"
                },
                {
                  "name": "SeniorCitizen",
                  "rawType": "int64",
                  "type": "integer"
                },
                {
                  "name": "Partner",
                  "rawType": "object",
                  "type": "string"
                },
                {
                  "name": "Dependents",
                  "rawType": "object",
                  "type": "string"
                },
                {
                  "name": "tenure",
                  "rawType": "int64",
                  "type": "integer"
                },
                {
                  "name": "PhoneService",
                  "rawType": "object",
                  "type": "string"
                },
                {
                  "name": "MultipleLines",
                  "rawType": "object",
                  "type": "string"
                },
                {
                  "name": "InternetService",
                  "rawType": "object",
                  "type": "string"
                },
                {
                  "name": "OnlineSecurity",
                  "rawType": "object",
                  "type": "string"
                },
                {
                  "name": "OnlineBackup",
                  "rawType": "object",
                  "type": "string"
                },
                {
                  "name": "DeviceProtection",
                  "rawType": "object",
                  "type": "string"
                },
                {
                  "name": "TechSupport",
                  "rawType": "object",
                  "type": "string"
                },
                {
                  "name": "StreamingTV",
                  "rawType": "object",
                  "type": "string"
                },
                {
                  "name": "StreamingMovies",
                  "rawType": "object",
                  "type": "string"
                },
                {
                  "name": "Contract",
                  "rawType": "object",
                  "type": "string"
                },
                {
                  "name": "PaperlessBilling",
                  "rawType": "object",
                  "type": "string"
                },
                {
                  "name": "PaymentMethod",
                  "rawType": "object",
                  "type": "string"
                },
                {
                  "name": "MonthlyCharges",
                  "rawType": "float64",
                  "type": "float"
                },
                {
                  "name": "TotalCharges",
                  "rawType": "object",
                  "type": "string"
                },
                {
                  "name": "Churn",
                  "rawType": "object",
                  "type": "string"
                }
              ],
              "ref": "b6b4fe8b-949c-4ea7-860f-0c5a9d418eff",
              "rows": [
                [
                  "0",
                  "7590-VHVEG",
                  "Female",
                  "0",
                  "Yes",
                  "No",
                  "1",
                  "No",
                  "No phone service",
                  "DSL",
                  "No",
                  "Yes",
                  "No",
                  "No",
                  "No",
                  "No",
                  "Month-to-month",
                  "Yes",
                  "Electronic check",
                  "29.85",
                  "29.85",
                  "No"
                ],
                [
                  "1",
                  "5575-GNVDE",
                  "Male",
                  "0",
                  "No",
                  "No",
                  "34",
                  "Yes",
                  "No",
                  "DSL",
                  "Yes",
                  "No",
                  "Yes",
                  "No",
                  "No",
                  "No",
                  "One year",
                  "No",
                  "Mailed check",
                  "56.95",
                  "1889.5",
                  "No"
                ],
                [
                  "2",
                  "3668-QPYBK",
                  "Male",
                  "0",
                  "No",
                  "No",
                  "2",
                  "Yes",
                  "No",
                  "DSL",
                  "Yes",
                  "Yes",
                  "No",
                  "No",
                  "No",
                  "No",
                  "Month-to-month",
                  "Yes",
                  "Mailed check",
                  "53.85",
                  "108.15",
                  "Yes"
                ],
                [
                  "3",
                  "7795-CFOCW",
                  "Male",
                  "0",
                  "No",
                  "No",
                  "45",
                  "No",
                  "No phone service",
                  "DSL",
                  "Yes",
                  "No",
                  "Yes",
                  "Yes",
                  "No",
                  "No",
                  "One year",
                  "No",
                  "Bank transfer (automatic)",
                  "42.3",
                  "1840.75",
                  "No"
                ],
                [
                  "4",
                  "9237-HQITU",
                  "Female",
                  "0",
                  "No",
                  "No",
                  "2",
                  "Yes",
                  "No",
                  "Fiber optic",
                  "No",
                  "No",
                  "No",
                  "No",
                  "No",
                  "No",
                  "Month-to-month",
                  "Yes",
                  "Electronic check",
                  "70.7",
                  "151.65",
                  "Yes"
                ]
              ],
              "shape": {
                "columns": 21,
                "rows": 5
              }
            },
            "text/html": [
              "<div>\n",
              "<style scoped>\n",
              "    .dataframe tbody tr th:only-of-type {\n",
              "        vertical-align: middle;\n",
              "    }\n",
              "\n",
              "    .dataframe tbody tr th {\n",
              "        vertical-align: top;\n",
              "    }\n",
              "\n",
              "    .dataframe thead th {\n",
              "        text-align: right;\n",
              "    }\n",
              "</style>\n",
              "<table border=\"1\" class=\"dataframe\">\n",
              "  <thead>\n",
              "    <tr style=\"text-align: right;\">\n",
              "      <th></th>\n",
              "      <th>customerID</th>\n",
              "      <th>gender</th>\n",
              "      <th>SeniorCitizen</th>\n",
              "      <th>Partner</th>\n",
              "      <th>Dependents</th>\n",
              "      <th>tenure</th>\n",
              "      <th>PhoneService</th>\n",
              "      <th>MultipleLines</th>\n",
              "      <th>InternetService</th>\n",
              "      <th>OnlineSecurity</th>\n",
              "      <th>...</th>\n",
              "      <th>DeviceProtection</th>\n",
              "      <th>TechSupport</th>\n",
              "      <th>StreamingTV</th>\n",
              "      <th>StreamingMovies</th>\n",
              "      <th>Contract</th>\n",
              "      <th>PaperlessBilling</th>\n",
              "      <th>PaymentMethod</th>\n",
              "      <th>MonthlyCharges</th>\n",
              "      <th>TotalCharges</th>\n",
              "      <th>Churn</th>\n",
              "    </tr>\n",
              "  </thead>\n",
              "  <tbody>\n",
              "    <tr>\n",
              "      <th>0</th>\n",
              "      <td>7590-VHVEG</td>\n",
              "      <td>Female</td>\n",
              "      <td>0</td>\n",
              "      <td>Yes</td>\n",
              "      <td>No</td>\n",
              "      <td>1</td>\n",
              "      <td>No</td>\n",
              "      <td>No phone service</td>\n",
              "      <td>DSL</td>\n",
              "      <td>No</td>\n",
              "      <td>...</td>\n",
              "      <td>No</td>\n",
              "      <td>No</td>\n",
              "      <td>No</td>\n",
              "      <td>No</td>\n",
              "      <td>Month-to-month</td>\n",
              "      <td>Yes</td>\n",
              "      <td>Electronic check</td>\n",
              "      <td>29.85</td>\n",
              "      <td>29.85</td>\n",
              "      <td>No</td>\n",
              "    </tr>\n",
              "    <tr>\n",
              "      <th>1</th>\n",
              "      <td>5575-GNVDE</td>\n",
              "      <td>Male</td>\n",
              "      <td>0</td>\n",
              "      <td>No</td>\n",
              "      <td>No</td>\n",
              "      <td>34</td>\n",
              "      <td>Yes</td>\n",
              "      <td>No</td>\n",
              "      <td>DSL</td>\n",
              "      <td>Yes</td>\n",
              "      <td>...</td>\n",
              "      <td>Yes</td>\n",
              "      <td>No</td>\n",
              "      <td>No</td>\n",
              "      <td>No</td>\n",
              "      <td>One year</td>\n",
              "      <td>No</td>\n",
              "      <td>Mailed check</td>\n",
              "      <td>56.95</td>\n",
              "      <td>1889.5</td>\n",
              "      <td>No</td>\n",
              "    </tr>\n",
              "    <tr>\n",
              "      <th>2</th>\n",
              "      <td>3668-QPYBK</td>\n",
              "      <td>Male</td>\n",
              "      <td>0</td>\n",
              "      <td>No</td>\n",
              "      <td>No</td>\n",
              "      <td>2</td>\n",
              "      <td>Yes</td>\n",
              "      <td>No</td>\n",
              "      <td>DSL</td>\n",
              "      <td>Yes</td>\n",
              "      <td>...</td>\n",
              "      <td>No</td>\n",
              "      <td>No</td>\n",
              "      <td>No</td>\n",
              "      <td>No</td>\n",
              "      <td>Month-to-month</td>\n",
              "      <td>Yes</td>\n",
              "      <td>Mailed check</td>\n",
              "      <td>53.85</td>\n",
              "      <td>108.15</td>\n",
              "      <td>Yes</td>\n",
              "    </tr>\n",
              "    <tr>\n",
              "      <th>3</th>\n",
              "      <td>7795-CFOCW</td>\n",
              "      <td>Male</td>\n",
              "      <td>0</td>\n",
              "      <td>No</td>\n",
              "      <td>No</td>\n",
              "      <td>45</td>\n",
              "      <td>No</td>\n",
              "      <td>No phone service</td>\n",
              "      <td>DSL</td>\n",
              "      <td>Yes</td>\n",
              "      <td>...</td>\n",
              "      <td>Yes</td>\n",
              "      <td>Yes</td>\n",
              "      <td>No</td>\n",
              "      <td>No</td>\n",
              "      <td>One year</td>\n",
              "      <td>No</td>\n",
              "      <td>Bank transfer (automatic)</td>\n",
              "      <td>42.30</td>\n",
              "      <td>1840.75</td>\n",
              "      <td>No</td>\n",
              "    </tr>\n",
              "    <tr>\n",
              "      <th>4</th>\n",
              "      <td>9237-HQITU</td>\n",
              "      <td>Female</td>\n",
              "      <td>0</td>\n",
              "      <td>No</td>\n",
              "      <td>No</td>\n",
              "      <td>2</td>\n",
              "      <td>Yes</td>\n",
              "      <td>No</td>\n",
              "      <td>Fiber optic</td>\n",
              "      <td>No</td>\n",
              "      <td>...</td>\n",
              "      <td>No</td>\n",
              "      <td>No</td>\n",
              "      <td>No</td>\n",
              "      <td>No</td>\n",
              "      <td>Month-to-month</td>\n",
              "      <td>Yes</td>\n",
              "      <td>Electronic check</td>\n",
              "      <td>70.70</td>\n",
              "      <td>151.65</td>\n",
              "      <td>Yes</td>\n",
              "    </tr>\n",
              "  </tbody>\n",
              "</table>\n",
              "<p>5 rows × 21 columns</p>\n",
              "</div>"
            ],
            "text/plain": [
              "   customerID  gender  SeniorCitizen Partner Dependents  tenure PhoneService  \\\n",
              "0  7590-VHVEG  Female              0     Yes         No       1           No   \n",
              "1  5575-GNVDE    Male              0      No         No      34          Yes   \n",
              "2  3668-QPYBK    Male              0      No         No       2          Yes   \n",
              "3  7795-CFOCW    Male              0      No         No      45           No   \n",
              "4  9237-HQITU  Female              0      No         No       2          Yes   \n",
              "\n",
              "      MultipleLines InternetService OnlineSecurity  ... DeviceProtection  \\\n",
              "0  No phone service             DSL             No  ...               No   \n",
              "1                No             DSL            Yes  ...              Yes   \n",
              "2                No             DSL            Yes  ...               No   \n",
              "3  No phone service             DSL            Yes  ...              Yes   \n",
              "4                No     Fiber optic             No  ...               No   \n",
              "\n",
              "  TechSupport StreamingTV StreamingMovies        Contract PaperlessBilling  \\\n",
              "0          No          No              No  Month-to-month              Yes   \n",
              "1          No          No              No        One year               No   \n",
              "2          No          No              No  Month-to-month              Yes   \n",
              "3         Yes          No              No        One year               No   \n",
              "4          No          No              No  Month-to-month              Yes   \n",
              "\n",
              "               PaymentMethod MonthlyCharges  TotalCharges Churn  \n",
              "0           Electronic check          29.85         29.85    No  \n",
              "1               Mailed check          56.95        1889.5    No  \n",
              "2               Mailed check          53.85        108.15   Yes  \n",
              "3  Bank transfer (automatic)          42.30       1840.75    No  \n",
              "4           Electronic check          70.70        151.65   Yes  \n",
              "\n",
              "[5 rows x 21 columns]"
            ]
          },
          "execution_count": 2,
          "metadata": {},
          "output_type": "execute_result"
        }
      ],
      "source": [
        "df.head(5)"
      ]
    },
    {
      "cell_type": "code",
      "execution_count": 3,
      "metadata": {
        "colab": {
          "base_uri": "https://localhost:8080/"
        },
        "id": "dfe0iv6CNTn5",
        "outputId": "410a3e2b-90ac-45db-f7e7-a0d5b2553483"
      },
      "outputs": [
        {
          "name": "stdout",
          "output_type": "stream",
          "text": [
            "<class 'pandas.core.frame.DataFrame'>\n",
            "RangeIndex: 7043 entries, 0 to 7042\n",
            "Data columns (total 21 columns):\n",
            " #   Column            Non-Null Count  Dtype  \n",
            "---  ------            --------------  -----  \n",
            " 0   customerID        7043 non-null   object \n",
            " 1   gender            7043 non-null   object \n",
            " 2   SeniorCitizen     7043 non-null   int64  \n",
            " 3   Partner           7043 non-null   object \n",
            " 4   Dependents        7043 non-null   object \n",
            " 5   tenure            7043 non-null   int64  \n",
            " 6   PhoneService      7043 non-null   object \n",
            " 7   MultipleLines     7043 non-null   object \n",
            " 8   InternetService   7043 non-null   object \n",
            " 9   OnlineSecurity    7043 non-null   object \n",
            " 10  OnlineBackup      7043 non-null   object \n",
            " 11  DeviceProtection  7043 non-null   object \n",
            " 12  TechSupport       7043 non-null   object \n",
            " 13  StreamingTV       7043 non-null   object \n",
            " 14  StreamingMovies   7043 non-null   object \n",
            " 15  Contract          7043 non-null   object \n",
            " 16  PaperlessBilling  7043 non-null   object \n",
            " 17  PaymentMethod     7043 non-null   object \n",
            " 18  MonthlyCharges    7043 non-null   float64\n",
            " 19  TotalCharges      7043 non-null   object \n",
            " 20  Churn             7043 non-null   object \n",
            "dtypes: float64(1), int64(2), object(18)\n",
            "memory usage: 1.1+ MB\n"
          ]
        }
      ],
      "source": [
        "df.info()"
      ]
    },
    {
      "cell_type": "code",
      "execution_count": 4,
      "metadata": {
        "colab": {
          "base_uri": "https://localhost:8080/",
          "height": 300
        },
        "id": "qvdJfp86NWDL",
        "outputId": "75ff980f-cb21-499e-f73f-4e940e340289"
      },
      "outputs": [
        {
          "data": {
            "application/vnd.microsoft.datawrangler.viewer.v0+json": {
              "columns": [
                {
                  "name": "index",
                  "rawType": "object",
                  "type": "string"
                },
                {
                  "name": "SeniorCitizen",
                  "rawType": "float64",
                  "type": "float"
                },
                {
                  "name": "tenure",
                  "rawType": "float64",
                  "type": "float"
                },
                {
                  "name": "MonthlyCharges",
                  "rawType": "float64",
                  "type": "float"
                }
              ],
              "ref": "f2b82ff5-b025-4c79-b905-4dcbd48c945e",
              "rows": [
                [
                  "count",
                  "7043.0",
                  "7043.0",
                  "7043.0"
                ],
                [
                  "mean",
                  "0.1621468124378816",
                  "32.37114865824223",
                  "64.76169246059918"
                ],
                [
                  "std",
                  "0.3686116056100131",
                  "24.55948102309446",
                  "30.090047097678493"
                ],
                [
                  "min",
                  "0.0",
                  "0.0",
                  "18.25"
                ],
                [
                  "25%",
                  "0.0",
                  "9.0",
                  "35.5"
                ],
                [
                  "50%",
                  "0.0",
                  "29.0",
                  "70.35"
                ],
                [
                  "75%",
                  "0.0",
                  "55.0",
                  "89.85"
                ],
                [
                  "max",
                  "1.0",
                  "72.0",
                  "118.75"
                ]
              ],
              "shape": {
                "columns": 3,
                "rows": 8
              }
            },
            "text/html": [
              "<div>\n",
              "<style scoped>\n",
              "    .dataframe tbody tr th:only-of-type {\n",
              "        vertical-align: middle;\n",
              "    }\n",
              "\n",
              "    .dataframe tbody tr th {\n",
              "        vertical-align: top;\n",
              "    }\n",
              "\n",
              "    .dataframe thead th {\n",
              "        text-align: right;\n",
              "    }\n",
              "</style>\n",
              "<table border=\"1\" class=\"dataframe\">\n",
              "  <thead>\n",
              "    <tr style=\"text-align: right;\">\n",
              "      <th></th>\n",
              "      <th>SeniorCitizen</th>\n",
              "      <th>tenure</th>\n",
              "      <th>MonthlyCharges</th>\n",
              "    </tr>\n",
              "  </thead>\n",
              "  <tbody>\n",
              "    <tr>\n",
              "      <th>count</th>\n",
              "      <td>7043.000000</td>\n",
              "      <td>7043.000000</td>\n",
              "      <td>7043.000000</td>\n",
              "    </tr>\n",
              "    <tr>\n",
              "      <th>mean</th>\n",
              "      <td>0.162147</td>\n",
              "      <td>32.371149</td>\n",
              "      <td>64.761692</td>\n",
              "    </tr>\n",
              "    <tr>\n",
              "      <th>std</th>\n",
              "      <td>0.368612</td>\n",
              "      <td>24.559481</td>\n",
              "      <td>30.090047</td>\n",
              "    </tr>\n",
              "    <tr>\n",
              "      <th>min</th>\n",
              "      <td>0.000000</td>\n",
              "      <td>0.000000</td>\n",
              "      <td>18.250000</td>\n",
              "    </tr>\n",
              "    <tr>\n",
              "      <th>25%</th>\n",
              "      <td>0.000000</td>\n",
              "      <td>9.000000</td>\n",
              "      <td>35.500000</td>\n",
              "    </tr>\n",
              "    <tr>\n",
              "      <th>50%</th>\n",
              "      <td>0.000000</td>\n",
              "      <td>29.000000</td>\n",
              "      <td>70.350000</td>\n",
              "    </tr>\n",
              "    <tr>\n",
              "      <th>75%</th>\n",
              "      <td>0.000000</td>\n",
              "      <td>55.000000</td>\n",
              "      <td>89.850000</td>\n",
              "    </tr>\n",
              "    <tr>\n",
              "      <th>max</th>\n",
              "      <td>1.000000</td>\n",
              "      <td>72.000000</td>\n",
              "      <td>118.750000</td>\n",
              "    </tr>\n",
              "  </tbody>\n",
              "</table>\n",
              "</div>"
            ],
            "text/plain": [
              "       SeniorCitizen       tenure  MonthlyCharges\n",
              "count    7043.000000  7043.000000     7043.000000\n",
              "mean        0.162147    32.371149       64.761692\n",
              "std         0.368612    24.559481       30.090047\n",
              "min         0.000000     0.000000       18.250000\n",
              "25%         0.000000     9.000000       35.500000\n",
              "50%         0.000000    29.000000       70.350000\n",
              "75%         0.000000    55.000000       89.850000\n",
              "max         1.000000    72.000000      118.750000"
            ]
          },
          "execution_count": 4,
          "metadata": {},
          "output_type": "execute_result"
        }
      ],
      "source": [
        "df.describe()"
      ]
    },
    {
      "cell_type": "code",
      "execution_count": 5,
      "metadata": {
        "colab": {
          "base_uri": "https://localhost:8080/",
          "height": 742
        },
        "id": "zNhZwthPNydO",
        "outputId": "9fcbd9ff-cea7-43ca-a95a-820358f587fa"
      },
      "outputs": [
        {
          "data": {
            "application/vnd.microsoft.datawrangler.viewer.v0+json": {
              "columns": [
                {
                  "name": "index",
                  "rawType": "object",
                  "type": "string"
                },
                {
                  "name": "0",
                  "rawType": "object",
                  "type": "unknown"
                }
              ],
              "ref": "819e7c89-7848-4330-852d-cff58fb41764",
              "rows": [
                [
                  "customerID",
                  "object"
                ],
                [
                  "gender",
                  "object"
                ],
                [
                  "SeniorCitizen",
                  "int64"
                ],
                [
                  "Partner",
                  "object"
                ],
                [
                  "Dependents",
                  "object"
                ],
                [
                  "tenure",
                  "int64"
                ],
                [
                  "PhoneService",
                  "object"
                ],
                [
                  "MultipleLines",
                  "object"
                ],
                [
                  "InternetService",
                  "object"
                ],
                [
                  "OnlineSecurity",
                  "object"
                ],
                [
                  "OnlineBackup",
                  "object"
                ],
                [
                  "DeviceProtection",
                  "object"
                ],
                [
                  "TechSupport",
                  "object"
                ],
                [
                  "StreamingTV",
                  "object"
                ],
                [
                  "StreamingMovies",
                  "object"
                ],
                [
                  "Contract",
                  "object"
                ],
                [
                  "PaperlessBilling",
                  "object"
                ],
                [
                  "PaymentMethod",
                  "object"
                ],
                [
                  "MonthlyCharges",
                  "float64"
                ],
                [
                  "TotalCharges",
                  "object"
                ],
                [
                  "Churn",
                  "object"
                ]
              ],
              "shape": {
                "columns": 1,
                "rows": 21
              }
            },
            "text/plain": [
              "customerID           object\n",
              "gender               object\n",
              "SeniorCitizen         int64\n",
              "Partner              object\n",
              "Dependents           object\n",
              "tenure                int64\n",
              "PhoneService         object\n",
              "MultipleLines        object\n",
              "InternetService      object\n",
              "OnlineSecurity       object\n",
              "OnlineBackup         object\n",
              "DeviceProtection     object\n",
              "TechSupport          object\n",
              "StreamingTV          object\n",
              "StreamingMovies      object\n",
              "Contract             object\n",
              "PaperlessBilling     object\n",
              "PaymentMethod        object\n",
              "MonthlyCharges      float64\n",
              "TotalCharges         object\n",
              "Churn                object\n",
              "dtype: object"
            ]
          },
          "execution_count": 5,
          "metadata": {},
          "output_type": "execute_result"
        }
      ],
      "source": [
        "df.dtypes"
      ]
    },
    {
      "cell_type": "code",
      "execution_count": 6,
      "metadata": {
        "colab": {
          "base_uri": "https://localhost:8080/",
          "height": 241
        },
        "id": "7ZPqMlgnN3Yg",
        "outputId": "d19a2420-7515-4ac7-ed27-0aec94c2ce32"
      },
      "outputs": [
        {
          "data": {
            "application/vnd.microsoft.datawrangler.viewer.v0+json": {
              "columns": [
                {
                  "name": "index",
                  "rawType": "int64",
                  "type": "integer"
                },
                {
                  "name": "SeniorCitizen",
                  "rawType": "int64",
                  "type": "integer"
                }
              ],
              "ref": "db97aff5-f020-48e6-a04e-682fb1817914",
              "rows": [
                [
                  "0",
                  "0"
                ],
                [
                  "1",
                  "0"
                ],
                [
                  "2",
                  "0"
                ],
                [
                  "3",
                  "0"
                ],
                [
                  "4",
                  "0"
                ]
              ],
              "shape": {
                "columns": 1,
                "rows": 5
              }
            },
            "text/plain": [
              "0    0\n",
              "1    0\n",
              "2    0\n",
              "3    0\n",
              "4    0\n",
              "Name: SeniorCitizen, dtype: int64"
            ]
          },
          "execution_count": 6,
          "metadata": {},
          "output_type": "execute_result"
        }
      ],
      "source": [
        "df['SeniorCitizen'].head(5)"
      ]
    },
    {
      "cell_type": "code",
      "execution_count": 7,
      "metadata": {
        "colab": {
          "base_uri": "https://localhost:8080/",
          "height": 241
        },
        "id": "B_aG6WWtN4Rh",
        "outputId": "763a662b-158e-4c32-99c4-25de80854da6"
      },
      "outputs": [
        {
          "data": {
            "application/vnd.microsoft.datawrangler.viewer.v0+json": {
              "columns": [
                {
                  "name": "index",
                  "rawType": "int64",
                  "type": "integer"
                },
                {
                  "name": "SeniorCitizen",
                  "rawType": "object",
                  "type": "string"
                }
              ],
              "ref": "d53fc963-7a2e-4810-9fcd-e262ab1b6820",
              "rows": [
                [
                  "0",
                  "No"
                ],
                [
                  "1",
                  "No"
                ],
                [
                  "2",
                  "No"
                ],
                [
                  "3",
                  "No"
                ],
                [
                  "4",
                  "No"
                ]
              ],
              "shape": {
                "columns": 1,
                "rows": 5
              }
            },
            "text/plain": [
              "0    No\n",
              "1    No\n",
              "2    No\n",
              "3    No\n",
              "4    No\n",
              "Name: SeniorCitizen, dtype: object"
            ]
          },
          "execution_count": 7,
          "metadata": {},
          "output_type": "execute_result"
        }
      ],
      "source": [
        "df['SeniorCitizen'] = df['SeniorCitizen'].map({1: 'Yes', 0: 'No'})\n",
        "df['SeniorCitizen'].head(5)"
      ]
    },
    {
      "cell_type": "code",
      "execution_count": 8,
      "metadata": {
        "colab": {
          "base_uri": "https://localhost:8080/"
        },
        "id": "6N-nEubZOHMZ",
        "outputId": "f951185b-1497-493d-a774-0e8f5d2ea6f1"
      },
      "outputs": [
        {
          "name": "stdout",
          "output_type": "stream",
          "text": [
            "object\n",
            "0\n"
          ]
        }
      ],
      "source": [
        "print(df['TotalCharges'].dtype)  # Should be float64\n",
        "print(df['TotalCharges'].isna().sum())  # Number of NaNs introduced"
      ]
    },
    {
      "cell_type": "code",
      "execution_count": 9,
      "metadata": {
        "colab": {
          "base_uri": "https://localhost:8080/"
        },
        "id": "XWvFN_3LOLs1",
        "outputId": "f6b5c858-8a38-427a-bc81-5374a18e3cc8"
      },
      "outputs": [
        {
          "name": "stdout",
          "output_type": "stream",
          "text": [
            "object     19\n",
            "int64       1\n",
            "float64     1\n",
            "Name: count, dtype: int64\n"
          ]
        }
      ],
      "source": [
        "print(df.dtypes.value_counts())"
      ]
    },
    {
      "cell_type": "markdown",
      "metadata": {
        "id": "17btVfcFOZqw"
      },
      "source": [
        "Data Cleaning"
      ]
    },
    {
      "cell_type": "code",
      "execution_count": 10,
      "metadata": {
        "colab": {
          "base_uri": "https://localhost:8080/",
          "height": 742
        },
        "id": "zn42F89oOdUj",
        "outputId": "ce602157-d683-41b2-cf89-09705896eb60"
      },
      "outputs": [
        {
          "data": {
            "application/vnd.microsoft.datawrangler.viewer.v0+json": {
              "columns": [
                {
                  "name": "index",
                  "rawType": "object",
                  "type": "string"
                },
                {
                  "name": "0",
                  "rawType": "int64",
                  "type": "integer"
                }
              ],
              "ref": "e9c9e4c3-cb52-4839-acc3-ec3d6400f647",
              "rows": [
                [
                  "customerID",
                  "0"
                ],
                [
                  "gender",
                  "0"
                ],
                [
                  "SeniorCitizen",
                  "0"
                ],
                [
                  "Partner",
                  "0"
                ],
                [
                  "Dependents",
                  "0"
                ],
                [
                  "tenure",
                  "0"
                ],
                [
                  "PhoneService",
                  "0"
                ],
                [
                  "MultipleLines",
                  "0"
                ],
                [
                  "InternetService",
                  "0"
                ],
                [
                  "OnlineSecurity",
                  "0"
                ],
                [
                  "OnlineBackup",
                  "0"
                ],
                [
                  "DeviceProtection",
                  "0"
                ],
                [
                  "TechSupport",
                  "0"
                ],
                [
                  "StreamingTV",
                  "0"
                ],
                [
                  "StreamingMovies",
                  "0"
                ],
                [
                  "Contract",
                  "0"
                ],
                [
                  "PaperlessBilling",
                  "0"
                ],
                [
                  "PaymentMethod",
                  "0"
                ],
                [
                  "MonthlyCharges",
                  "0"
                ],
                [
                  "TotalCharges",
                  "0"
                ],
                [
                  "Churn",
                  "0"
                ]
              ],
              "shape": {
                "columns": 1,
                "rows": 21
              }
            },
            "text/plain": [
              "customerID          0\n",
              "gender              0\n",
              "SeniorCitizen       0\n",
              "Partner             0\n",
              "Dependents          0\n",
              "tenure              0\n",
              "PhoneService        0\n",
              "MultipleLines       0\n",
              "InternetService     0\n",
              "OnlineSecurity      0\n",
              "OnlineBackup        0\n",
              "DeviceProtection    0\n",
              "TechSupport         0\n",
              "StreamingTV         0\n",
              "StreamingMovies     0\n",
              "Contract            0\n",
              "PaperlessBilling    0\n",
              "PaymentMethod       0\n",
              "MonthlyCharges      0\n",
              "TotalCharges        0\n",
              "Churn               0\n",
              "dtype: int64"
            ]
          },
          "execution_count": 10,
          "metadata": {},
          "output_type": "execute_result"
        }
      ],
      "source": [
        "df.isnull().sum()"
      ]
    },
    {
      "cell_type": "code",
      "execution_count": 11,
      "metadata": {
        "id": "sn3KqVkROkSi"
      },
      "outputs": [],
      "source": [
        "def clean_dataframe(df):\n",
        "  def clean_column(col):\n",
        "    if col.dtype == 'object':\n",
        "      # Strip whitespace and replace empty strings with NaN\n",
        "      return col.str.strip().replace('', np.nan)\n",
        "    elif pd.api.types.is_numeric_dtype(col):\n",
        "      # Replace infinite values with NaN\n",
        "      return col.replace([np.inf, -np.inf], np.nan)\n",
        "    else:\n",
        "      return col  # Leave other types untouched (e.g., datetime, bool)\n",
        "\n",
        "  return df.apply(clean_column)\n",
        "df = clean_dataframe(df)"
      ]
    },
    {
      "cell_type": "code",
      "execution_count": 12,
      "metadata": {
        "colab": {
          "base_uri": "https://localhost:8080/"
        },
        "id": "bRxBp8ptOof6",
        "outputId": "7a76a642-0cc0-4dac-d156-03adbde3dd75"
      },
      "outputs": [
        {
          "data": {
            "text/plain": [
              "dtype('float64')"
            ]
          },
          "execution_count": 12,
          "metadata": {},
          "output_type": "execute_result"
        }
      ],
      "source": [
        "# Convert to float\n",
        "df['TotalCharges'] = df['TotalCharges'].astype(float)\n",
        "df['TotalCharges'].dtypes"
      ]
    },
    {
      "cell_type": "markdown",
      "metadata": {
        "id": "5_xx0BUNOwAS"
      },
      "source": [
        "Check Duplicate"
      ]
    },
    {
      "cell_type": "code",
      "execution_count": 13,
      "metadata": {
        "colab": {
          "base_uri": "https://localhost:8080/",
          "height": 99
        },
        "id": "knBhSBQhOyVp",
        "outputId": "9f2bd919-7304-41b9-fd37-19305b672c73"
      },
      "outputs": [
        {
          "data": {
            "application/vnd.microsoft.datawrangler.viewer.v0+json": {
              "columns": [
                {
                  "name": "index",
                  "rawType": "int64",
                  "type": "integer"
                },
                {
                  "name": "customerID",
                  "rawType": "object",
                  "type": "unknown"
                },
                {
                  "name": "gender",
                  "rawType": "object",
                  "type": "unknown"
                },
                {
                  "name": "SeniorCitizen",
                  "rawType": "object",
                  "type": "unknown"
                },
                {
                  "name": "Partner",
                  "rawType": "object",
                  "type": "unknown"
                },
                {
                  "name": "Dependents",
                  "rawType": "object",
                  "type": "unknown"
                },
                {
                  "name": "tenure",
                  "rawType": "int64",
                  "type": "integer"
                },
                {
                  "name": "PhoneService",
                  "rawType": "object",
                  "type": "unknown"
                },
                {
                  "name": "MultipleLines",
                  "rawType": "object",
                  "type": "unknown"
                },
                {
                  "name": "InternetService",
                  "rawType": "object",
                  "type": "unknown"
                },
                {
                  "name": "OnlineSecurity",
                  "rawType": "object",
                  "type": "unknown"
                },
                {
                  "name": "OnlineBackup",
                  "rawType": "object",
                  "type": "unknown"
                },
                {
                  "name": "DeviceProtection",
                  "rawType": "object",
                  "type": "unknown"
                },
                {
                  "name": "TechSupport",
                  "rawType": "object",
                  "type": "unknown"
                },
                {
                  "name": "StreamingTV",
                  "rawType": "object",
                  "type": "unknown"
                },
                {
                  "name": "StreamingMovies",
                  "rawType": "object",
                  "type": "unknown"
                },
                {
                  "name": "Contract",
                  "rawType": "object",
                  "type": "unknown"
                },
                {
                  "name": "PaperlessBilling",
                  "rawType": "object",
                  "type": "unknown"
                },
                {
                  "name": "PaymentMethod",
                  "rawType": "object",
                  "type": "unknown"
                },
                {
                  "name": "MonthlyCharges",
                  "rawType": "float64",
                  "type": "float"
                },
                {
                  "name": "TotalCharges",
                  "rawType": "float64",
                  "type": "float"
                },
                {
                  "name": "Churn",
                  "rawType": "object",
                  "type": "unknown"
                }
              ],
              "ref": "3b287b8b-646b-4379-9f9e-a8442d17ac70",
              "rows": [],
              "shape": {
                "columns": 21,
                "rows": 0
              }
            },
            "text/html": [
              "<div>\n",
              "<style scoped>\n",
              "    .dataframe tbody tr th:only-of-type {\n",
              "        vertical-align: middle;\n",
              "    }\n",
              "\n",
              "    .dataframe tbody tr th {\n",
              "        vertical-align: top;\n",
              "    }\n",
              "\n",
              "    .dataframe thead th {\n",
              "        text-align: right;\n",
              "    }\n",
              "</style>\n",
              "<table border=\"1\" class=\"dataframe\">\n",
              "  <thead>\n",
              "    <tr style=\"text-align: right;\">\n",
              "      <th></th>\n",
              "      <th>customerID</th>\n",
              "      <th>gender</th>\n",
              "      <th>SeniorCitizen</th>\n",
              "      <th>Partner</th>\n",
              "      <th>Dependents</th>\n",
              "      <th>tenure</th>\n",
              "      <th>PhoneService</th>\n",
              "      <th>MultipleLines</th>\n",
              "      <th>InternetService</th>\n",
              "      <th>OnlineSecurity</th>\n",
              "      <th>...</th>\n",
              "      <th>DeviceProtection</th>\n",
              "      <th>TechSupport</th>\n",
              "      <th>StreamingTV</th>\n",
              "      <th>StreamingMovies</th>\n",
              "      <th>Contract</th>\n",
              "      <th>PaperlessBilling</th>\n",
              "      <th>PaymentMethod</th>\n",
              "      <th>MonthlyCharges</th>\n",
              "      <th>TotalCharges</th>\n",
              "      <th>Churn</th>\n",
              "    </tr>\n",
              "  </thead>\n",
              "  <tbody>\n",
              "  </tbody>\n",
              "</table>\n",
              "<p>0 rows × 21 columns</p>\n",
              "</div>"
            ],
            "text/plain": [
              "Empty DataFrame\n",
              "Columns: [customerID, gender, SeniorCitizen, Partner, Dependents, tenure, PhoneService, MultipleLines, InternetService, OnlineSecurity, OnlineBackup, DeviceProtection, TechSupport, StreamingTV, StreamingMovies, Contract, PaperlessBilling, PaymentMethod, MonthlyCharges, TotalCharges, Churn]\n",
              "Index: []\n",
              "\n",
              "[0 rows x 21 columns]"
            ]
          },
          "execution_count": 13,
          "metadata": {},
          "output_type": "execute_result"
        }
      ],
      "source": [
        "df[df.duplicated()]"
      ]
    },
    {
      "cell_type": "code",
      "execution_count": 14,
      "metadata": {
        "colab": {
          "base_uri": "https://localhost:8080/",
          "height": 617
        },
        "id": "9ur9yqVyO2I5",
        "outputId": "4a240383-beb8-4c9c-a219-7c0ef665e2d4"
      },
      "outputs": [
        {
          "data": {
            "application/vnd.microsoft.datawrangler.viewer.v0+json": {
              "columns": [
                {
                  "name": "index",
                  "rawType": "int64",
                  "type": "integer"
                },
                {
                  "name": "customerID",
                  "rawType": "object",
                  "type": "string"
                },
                {
                  "name": "gender",
                  "rawType": "object",
                  "type": "string"
                },
                {
                  "name": "SeniorCitizen",
                  "rawType": "object",
                  "type": "string"
                },
                {
                  "name": "Partner",
                  "rawType": "object",
                  "type": "string"
                },
                {
                  "name": "Dependents",
                  "rawType": "object",
                  "type": "string"
                },
                {
                  "name": "tenure",
                  "rawType": "int64",
                  "type": "integer"
                },
                {
                  "name": "PhoneService",
                  "rawType": "object",
                  "type": "string"
                },
                {
                  "name": "MultipleLines",
                  "rawType": "object",
                  "type": "string"
                },
                {
                  "name": "InternetService",
                  "rawType": "object",
                  "type": "string"
                },
                {
                  "name": "OnlineSecurity",
                  "rawType": "object",
                  "type": "string"
                },
                {
                  "name": "OnlineBackup",
                  "rawType": "object",
                  "type": "string"
                },
                {
                  "name": "DeviceProtection",
                  "rawType": "object",
                  "type": "string"
                },
                {
                  "name": "TechSupport",
                  "rawType": "object",
                  "type": "string"
                },
                {
                  "name": "StreamingTV",
                  "rawType": "object",
                  "type": "string"
                },
                {
                  "name": "StreamingMovies",
                  "rawType": "object",
                  "type": "string"
                },
                {
                  "name": "Contract",
                  "rawType": "object",
                  "type": "string"
                },
                {
                  "name": "PaperlessBilling",
                  "rawType": "object",
                  "type": "string"
                },
                {
                  "name": "PaymentMethod",
                  "rawType": "object",
                  "type": "string"
                },
                {
                  "name": "MonthlyCharges",
                  "rawType": "float64",
                  "type": "float"
                },
                {
                  "name": "TotalCharges",
                  "rawType": "float64",
                  "type": "float"
                },
                {
                  "name": "Churn",
                  "rawType": "object",
                  "type": "string"
                }
              ],
              "ref": "96b8c6e9-4a1f-41f6-8d0b-e091879c74f8",
              "rows": [
                [
                  "0",
                  "7590-VHVEG",
                  "Female",
                  "No",
                  "Yes",
                  "No",
                  "1",
                  "No",
                  "No phone service",
                  "DSL",
                  "No",
                  "Yes",
                  "No",
                  "No",
                  "No",
                  "No",
                  "Month-to-month",
                  "Yes",
                  "Electronic check",
                  "29.85",
                  "29.85",
                  "No"
                ],
                [
                  "1",
                  "5575-GNVDE",
                  "Male",
                  "No",
                  "No",
                  "No",
                  "34",
                  "Yes",
                  "No",
                  "DSL",
                  "Yes",
                  "No",
                  "Yes",
                  "No",
                  "No",
                  "No",
                  "One year",
                  "No",
                  "Mailed check",
                  "56.95",
                  "1889.5",
                  "No"
                ],
                [
                  "2",
                  "3668-QPYBK",
                  "Male",
                  "No",
                  "No",
                  "No",
                  "2",
                  "Yes",
                  "No",
                  "DSL",
                  "Yes",
                  "Yes",
                  "No",
                  "No",
                  "No",
                  "No",
                  "Month-to-month",
                  "Yes",
                  "Mailed check",
                  "53.85",
                  "108.15",
                  "Yes"
                ],
                [
                  "3",
                  "7795-CFOCW",
                  "Male",
                  "No",
                  "No",
                  "No",
                  "45",
                  "No",
                  "No phone service",
                  "DSL",
                  "Yes",
                  "No",
                  "Yes",
                  "Yes",
                  "No",
                  "No",
                  "One year",
                  "No",
                  "Bank transfer (automatic)",
                  "42.3",
                  "1840.75",
                  "No"
                ],
                [
                  "4",
                  "9237-HQITU",
                  "Female",
                  "No",
                  "No",
                  "No",
                  "2",
                  "Yes",
                  "No",
                  "Fiber optic",
                  "No",
                  "No",
                  "No",
                  "No",
                  "No",
                  "No",
                  "Month-to-month",
                  "Yes",
                  "Electronic check",
                  "70.7",
                  "151.65",
                  "Yes"
                ],
                [
                  "5",
                  "9305-CDSKC",
                  "Female",
                  "No",
                  "No",
                  "No",
                  "8",
                  "Yes",
                  "Yes",
                  "Fiber optic",
                  "No",
                  "No",
                  "Yes",
                  "No",
                  "Yes",
                  "Yes",
                  "Month-to-month",
                  "Yes",
                  "Electronic check",
                  "99.65",
                  "820.5",
                  "Yes"
                ],
                [
                  "6",
                  "1452-KIOVK",
                  "Male",
                  "No",
                  "No",
                  "Yes",
                  "22",
                  "Yes",
                  "Yes",
                  "Fiber optic",
                  "No",
                  "Yes",
                  "No",
                  "No",
                  "Yes",
                  "No",
                  "Month-to-month",
                  "Yes",
                  "Credit card (automatic)",
                  "89.1",
                  "1949.4",
                  "No"
                ],
                [
                  "7",
                  "6713-OKOMC",
                  "Female",
                  "No",
                  "No",
                  "No",
                  "10",
                  "No",
                  "No phone service",
                  "DSL",
                  "Yes",
                  "No",
                  "No",
                  "No",
                  "No",
                  "No",
                  "Month-to-month",
                  "No",
                  "Mailed check",
                  "29.75",
                  "301.9",
                  "No"
                ],
                [
                  "8",
                  "7892-POOKP",
                  "Female",
                  "No",
                  "Yes",
                  "No",
                  "28",
                  "Yes",
                  "Yes",
                  "Fiber optic",
                  "No",
                  "No",
                  "Yes",
                  "Yes",
                  "Yes",
                  "Yes",
                  "Month-to-month",
                  "Yes",
                  "Electronic check",
                  "104.8",
                  "3046.05",
                  "Yes"
                ],
                [
                  "9",
                  "6388-TABGU",
                  "Male",
                  "No",
                  "No",
                  "Yes",
                  "62",
                  "Yes",
                  "No",
                  "DSL",
                  "Yes",
                  "Yes",
                  "No",
                  "No",
                  "No",
                  "No",
                  "One year",
                  "No",
                  "Bank transfer (automatic)",
                  "56.15",
                  "3487.95",
                  "No"
                ],
                [
                  "10",
                  "9763-GRSKD",
                  "Male",
                  "No",
                  "Yes",
                  "Yes",
                  "13",
                  "Yes",
                  "No",
                  "DSL",
                  "Yes",
                  "No",
                  "No",
                  "No",
                  "No",
                  "No",
                  "Month-to-month",
                  "Yes",
                  "Mailed check",
                  "49.95",
                  "587.45",
                  "No"
                ],
                [
                  "11",
                  "7469-LKBCI",
                  "Male",
                  "No",
                  "No",
                  "No",
                  "16",
                  "Yes",
                  "No",
                  "No",
                  "No internet service",
                  "No internet service",
                  "No internet service",
                  "No internet service",
                  "No internet service",
                  "No internet service",
                  "Two year",
                  "No",
                  "Credit card (automatic)",
                  "18.95",
                  "326.8",
                  "No"
                ],
                [
                  "12",
                  "8091-TTVAX",
                  "Male",
                  "No",
                  "Yes",
                  "No",
                  "58",
                  "Yes",
                  "Yes",
                  "Fiber optic",
                  "No",
                  "No",
                  "Yes",
                  "No",
                  "Yes",
                  "Yes",
                  "One year",
                  "No",
                  "Credit card (automatic)",
                  "100.35",
                  "5681.1",
                  "No"
                ],
                [
                  "13",
                  "0280-XJGEX",
                  "Male",
                  "No",
                  "No",
                  "No",
                  "49",
                  "Yes",
                  "Yes",
                  "Fiber optic",
                  "No",
                  "Yes",
                  "Yes",
                  "No",
                  "Yes",
                  "Yes",
                  "Month-to-month",
                  "Yes",
                  "Bank transfer (automatic)",
                  "103.7",
                  "5036.3",
                  "Yes"
                ],
                [
                  "14",
                  "5129-JLPIS",
                  "Male",
                  "No",
                  "No",
                  "No",
                  "25",
                  "Yes",
                  "No",
                  "Fiber optic",
                  "Yes",
                  "No",
                  "Yes",
                  "Yes",
                  "Yes",
                  "Yes",
                  "Month-to-month",
                  "Yes",
                  "Electronic check",
                  "105.5",
                  "2686.05",
                  "No"
                ],
                [
                  "15",
                  "3655-SNQYZ",
                  "Female",
                  "No",
                  "Yes",
                  "Yes",
                  "69",
                  "Yes",
                  "Yes",
                  "Fiber optic",
                  "Yes",
                  "Yes",
                  "Yes",
                  "Yes",
                  "Yes",
                  "Yes",
                  "Two year",
                  "No",
                  "Credit card (automatic)",
                  "113.25",
                  "7895.15",
                  "No"
                ],
                [
                  "16",
                  "8191-XWSZG",
                  "Female",
                  "No",
                  "No",
                  "No",
                  "52",
                  "Yes",
                  "No",
                  "No",
                  "No internet service",
                  "No internet service",
                  "No internet service",
                  "No internet service",
                  "No internet service",
                  "No internet service",
                  "One year",
                  "No",
                  "Mailed check",
                  "20.65",
                  "1022.95",
                  "No"
                ],
                [
                  "17",
                  "9959-WOFKT",
                  "Male",
                  "No",
                  "No",
                  "Yes",
                  "71",
                  "Yes",
                  "Yes",
                  "Fiber optic",
                  "Yes",
                  "No",
                  "Yes",
                  "No",
                  "Yes",
                  "Yes",
                  "Two year",
                  "No",
                  "Bank transfer (automatic)",
                  "106.7",
                  "7382.25",
                  "No"
                ],
                [
                  "18",
                  "4190-MFLUW",
                  "Female",
                  "No",
                  "Yes",
                  "Yes",
                  "10",
                  "Yes",
                  "No",
                  "DSL",
                  "No",
                  "No",
                  "Yes",
                  "Yes",
                  "No",
                  "No",
                  "Month-to-month",
                  "No",
                  "Credit card (automatic)",
                  "55.2",
                  "528.35",
                  "Yes"
                ],
                [
                  "19",
                  "4183-MYFRB",
                  "Female",
                  "No",
                  "No",
                  "No",
                  "21",
                  "Yes",
                  "No",
                  "Fiber optic",
                  "No",
                  "Yes",
                  "Yes",
                  "No",
                  "No",
                  "Yes",
                  "Month-to-month",
                  "Yes",
                  "Electronic check",
                  "90.05",
                  "1862.9",
                  "No"
                ],
                [
                  "20",
                  "8779-QRDMV",
                  "Male",
                  "Yes",
                  "No",
                  "No",
                  "1",
                  "No",
                  "No phone service",
                  "DSL",
                  "No",
                  "No",
                  "Yes",
                  "No",
                  "No",
                  "Yes",
                  "Month-to-month",
                  "Yes",
                  "Electronic check",
                  "39.65",
                  "39.65",
                  "Yes"
                ],
                [
                  "21",
                  "1680-VDCWW",
                  "Male",
                  "No",
                  "Yes",
                  "No",
                  "12",
                  "Yes",
                  "No",
                  "No",
                  "No internet service",
                  "No internet service",
                  "No internet service",
                  "No internet service",
                  "No internet service",
                  "No internet service",
                  "One year",
                  "No",
                  "Bank transfer (automatic)",
                  "19.8",
                  "202.25",
                  "No"
                ],
                [
                  "22",
                  "1066-JKSGK",
                  "Male",
                  "No",
                  "No",
                  "No",
                  "1",
                  "Yes",
                  "No",
                  "No",
                  "No internet service",
                  "No internet service",
                  "No internet service",
                  "No internet service",
                  "No internet service",
                  "No internet service",
                  "Month-to-month",
                  "No",
                  "Mailed check",
                  "20.15",
                  "20.15",
                  "Yes"
                ],
                [
                  "23",
                  "3638-WEABW",
                  "Female",
                  "No",
                  "Yes",
                  "No",
                  "58",
                  "Yes",
                  "Yes",
                  "DSL",
                  "No",
                  "Yes",
                  "No",
                  "Yes",
                  "No",
                  "No",
                  "Two year",
                  "Yes",
                  "Credit card (automatic)",
                  "59.9",
                  "3505.1",
                  "No"
                ],
                [
                  "24",
                  "6322-HRPFA",
                  "Male",
                  "No",
                  "Yes",
                  "Yes",
                  "49",
                  "Yes",
                  "No",
                  "DSL",
                  "Yes",
                  "Yes",
                  "No",
                  "Yes",
                  "No",
                  "No",
                  "Month-to-month",
                  "No",
                  "Credit card (automatic)",
                  "59.6",
                  "2970.3",
                  "No"
                ],
                [
                  "25",
                  "6865-JZNKO",
                  "Female",
                  "No",
                  "No",
                  "No",
                  "30",
                  "Yes",
                  "No",
                  "DSL",
                  "Yes",
                  "Yes",
                  "No",
                  "No",
                  "No",
                  "No",
                  "Month-to-month",
                  "Yes",
                  "Bank transfer (automatic)",
                  "55.3",
                  "1530.6",
                  "No"
                ],
                [
                  "26",
                  "6467-CHFZW",
                  "Male",
                  "No",
                  "Yes",
                  "Yes",
                  "47",
                  "Yes",
                  "Yes",
                  "Fiber optic",
                  "No",
                  "Yes",
                  "No",
                  "No",
                  "Yes",
                  "Yes",
                  "Month-to-month",
                  "Yes",
                  "Electronic check",
                  "99.35",
                  "4749.15",
                  "Yes"
                ],
                [
                  "27",
                  "8665-UTDHZ",
                  "Male",
                  "No",
                  "Yes",
                  "Yes",
                  "1",
                  "No",
                  "No phone service",
                  "DSL",
                  "No",
                  "Yes",
                  "No",
                  "No",
                  "No",
                  "No",
                  "Month-to-month",
                  "No",
                  "Electronic check",
                  "30.2",
                  "30.2",
                  "Yes"
                ],
                [
                  "28",
                  "5248-YGIJN",
                  "Male",
                  "No",
                  "Yes",
                  "No",
                  "72",
                  "Yes",
                  "Yes",
                  "DSL",
                  "Yes",
                  "Yes",
                  "Yes",
                  "Yes",
                  "Yes",
                  "Yes",
                  "Two year",
                  "Yes",
                  "Credit card (automatic)",
                  "90.25",
                  "6369.45",
                  "No"
                ],
                [
                  "29",
                  "8773-HHUOZ",
                  "Female",
                  "No",
                  "No",
                  "Yes",
                  "17",
                  "Yes",
                  "No",
                  "DSL",
                  "No",
                  "No",
                  "No",
                  "No",
                  "Yes",
                  "Yes",
                  "Month-to-month",
                  "Yes",
                  "Mailed check",
                  "64.7",
                  "1093.1",
                  "Yes"
                ],
                [
                  "30",
                  "3841-NFECX",
                  "Female",
                  "Yes",
                  "Yes",
                  "No",
                  "71",
                  "Yes",
                  "Yes",
                  "Fiber optic",
                  "Yes",
                  "Yes",
                  "Yes",
                  "Yes",
                  "No",
                  "No",
                  "Two year",
                  "Yes",
                  "Credit card (automatic)",
                  "96.35",
                  "6766.95",
                  "No"
                ],
                [
                  "31",
                  "4929-XIHVW",
                  "Male",
                  "Yes",
                  "Yes",
                  "No",
                  "2",
                  "Yes",
                  "No",
                  "Fiber optic",
                  "No",
                  "No",
                  "Yes",
                  "No",
                  "Yes",
                  "Yes",
                  "Month-to-month",
                  "Yes",
                  "Credit card (automatic)",
                  "95.5",
                  "181.65",
                  "No"
                ],
                [
                  "32",
                  "6827-IEAUQ",
                  "Female",
                  "No",
                  "Yes",
                  "Yes",
                  "27",
                  "Yes",
                  "No",
                  "DSL",
                  "Yes",
                  "Yes",
                  "Yes",
                  "Yes",
                  "No",
                  "No",
                  "One year",
                  "No",
                  "Mailed check",
                  "66.15",
                  "1874.45",
                  "No"
                ],
                [
                  "33",
                  "7310-EGVHZ",
                  "Male",
                  "No",
                  "No",
                  "No",
                  "1",
                  "Yes",
                  "No",
                  "No",
                  "No internet service",
                  "No internet service",
                  "No internet service",
                  "No internet service",
                  "No internet service",
                  "No internet service",
                  "Month-to-month",
                  "No",
                  "Bank transfer (automatic)",
                  "20.2",
                  "20.2",
                  "No"
                ],
                [
                  "34",
                  "3413-BMNZE",
                  "Male",
                  "Yes",
                  "No",
                  "No",
                  "1",
                  "Yes",
                  "No",
                  "DSL",
                  "No",
                  "No",
                  "No",
                  "No",
                  "No",
                  "No",
                  "Month-to-month",
                  "No",
                  "Bank transfer (automatic)",
                  "45.25",
                  "45.25",
                  "No"
                ],
                [
                  "35",
                  "6234-RAAPL",
                  "Female",
                  "No",
                  "Yes",
                  "Yes",
                  "72",
                  "Yes",
                  "Yes",
                  "Fiber optic",
                  "Yes",
                  "Yes",
                  "No",
                  "Yes",
                  "Yes",
                  "No",
                  "Two year",
                  "No",
                  "Bank transfer (automatic)",
                  "99.9",
                  "7251.7",
                  "No"
                ],
                [
                  "36",
                  "6047-YHPVI",
                  "Male",
                  "No",
                  "No",
                  "No",
                  "5",
                  "Yes",
                  "No",
                  "Fiber optic",
                  "No",
                  "No",
                  "No",
                  "No",
                  "No",
                  "No",
                  "Month-to-month",
                  "Yes",
                  "Electronic check",
                  "69.7",
                  "316.9",
                  "Yes"
                ],
                [
                  "37",
                  "6572-ADKRS",
                  "Female",
                  "No",
                  "No",
                  "No",
                  "46",
                  "Yes",
                  "No",
                  "Fiber optic",
                  "No",
                  "No",
                  "Yes",
                  "No",
                  "No",
                  "No",
                  "Month-to-month",
                  "Yes",
                  "Credit card (automatic)",
                  "74.8",
                  "3548.3",
                  "No"
                ],
                [
                  "38",
                  "5380-WJKOV",
                  "Male",
                  "No",
                  "No",
                  "No",
                  "34",
                  "Yes",
                  "Yes",
                  "Fiber optic",
                  "No",
                  "Yes",
                  "Yes",
                  "No",
                  "Yes",
                  "Yes",
                  "Month-to-month",
                  "Yes",
                  "Electronic check",
                  "106.35",
                  "3549.25",
                  "Yes"
                ],
                [
                  "39",
                  "8168-UQWWF",
                  "Female",
                  "No",
                  "No",
                  "No",
                  "11",
                  "Yes",
                  "Yes",
                  "Fiber optic",
                  "No",
                  "No",
                  "Yes",
                  "No",
                  "Yes",
                  "Yes",
                  "Month-to-month",
                  "Yes",
                  "Bank transfer (automatic)",
                  "97.85",
                  "1105.4",
                  "Yes"
                ],
                [
                  "40",
                  "8865-TNMNX",
                  "Male",
                  "No",
                  "Yes",
                  "Yes",
                  "10",
                  "Yes",
                  "No",
                  "DSL",
                  "No",
                  "Yes",
                  "No",
                  "No",
                  "No",
                  "No",
                  "One year",
                  "No",
                  "Mailed check",
                  "49.55",
                  "475.7",
                  "No"
                ],
                [
                  "41",
                  "9489-DEDVP",
                  "Female",
                  "No",
                  "Yes",
                  "Yes",
                  "70",
                  "Yes",
                  "Yes",
                  "DSL",
                  "Yes",
                  "Yes",
                  "No",
                  "No",
                  "Yes",
                  "No",
                  "Two year",
                  "Yes",
                  "Credit card (automatic)",
                  "69.2",
                  "4872.35",
                  "No"
                ],
                [
                  "42",
                  "9867-JCZSP",
                  "Female",
                  "No",
                  "Yes",
                  "Yes",
                  "17",
                  "Yes",
                  "No",
                  "No",
                  "No internet service",
                  "No internet service",
                  "No internet service",
                  "No internet service",
                  "No internet service",
                  "No internet service",
                  "One year",
                  "No",
                  "Mailed check",
                  "20.75",
                  "418.25",
                  "No"
                ],
                [
                  "43",
                  "4671-VJLCL",
                  "Female",
                  "No",
                  "No",
                  "No",
                  "63",
                  "Yes",
                  "Yes",
                  "DSL",
                  "Yes",
                  "Yes",
                  "Yes",
                  "Yes",
                  "Yes",
                  "No",
                  "Two year",
                  "Yes",
                  "Credit card (automatic)",
                  "79.85",
                  "4861.45",
                  "No"
                ],
                [
                  "44",
                  "4080-IIARD",
                  "Female",
                  "No",
                  "Yes",
                  "No",
                  "13",
                  "Yes",
                  "Yes",
                  "DSL",
                  "Yes",
                  "Yes",
                  "No",
                  "Yes",
                  "Yes",
                  "No",
                  "Month-to-month",
                  "Yes",
                  "Electronic check",
                  "76.2",
                  "981.45",
                  "No"
                ],
                [
                  "45",
                  "3714-NTNFO",
                  "Female",
                  "No",
                  "No",
                  "No",
                  "49",
                  "Yes",
                  "Yes",
                  "Fiber optic",
                  "No",
                  "No",
                  "No",
                  "No",
                  "No",
                  "Yes",
                  "Month-to-month",
                  "Yes",
                  "Electronic check",
                  "84.5",
                  "3906.7",
                  "No"
                ],
                [
                  "46",
                  "5948-UJZLF",
                  "Male",
                  "No",
                  "No",
                  "No",
                  "2",
                  "Yes",
                  "No",
                  "DSL",
                  "No",
                  "Yes",
                  "No",
                  "No",
                  "No",
                  "No",
                  "Month-to-month",
                  "No",
                  "Mailed check",
                  "49.25",
                  "97.0",
                  "No"
                ],
                [
                  "47",
                  "7760-OYPDY",
                  "Female",
                  "No",
                  "No",
                  "No",
                  "2",
                  "Yes",
                  "No",
                  "Fiber optic",
                  "No",
                  "No",
                  "No",
                  "No",
                  "Yes",
                  "No",
                  "Month-to-month",
                  "Yes",
                  "Electronic check",
                  "80.65",
                  "144.15",
                  "Yes"
                ],
                [
                  "48",
                  "7639-LIAYI",
                  "Male",
                  "No",
                  "No",
                  "No",
                  "52",
                  "Yes",
                  "Yes",
                  "DSL",
                  "Yes",
                  "No",
                  "No",
                  "Yes",
                  "Yes",
                  "Yes",
                  "Two year",
                  "Yes",
                  "Credit card (automatic)",
                  "79.75",
                  "4217.8",
                  "No"
                ],
                [
                  "49",
                  "2954-PIBKO",
                  "Female",
                  "No",
                  "Yes",
                  "Yes",
                  "69",
                  "Yes",
                  "Yes",
                  "DSL",
                  "Yes",
                  "No",
                  "Yes",
                  "Yes",
                  "No",
                  "No",
                  "Two year",
                  "Yes",
                  "Credit card (automatic)",
                  "64.15",
                  "4254.1",
                  "No"
                ]
              ],
              "shape": {
                "columns": 21,
                "rows": 7043
              }
            },
            "text/html": [
              "<div>\n",
              "<style scoped>\n",
              "    .dataframe tbody tr th:only-of-type {\n",
              "        vertical-align: middle;\n",
              "    }\n",
              "\n",
              "    .dataframe tbody tr th {\n",
              "        vertical-align: top;\n",
              "    }\n",
              "\n",
              "    .dataframe thead th {\n",
              "        text-align: right;\n",
              "    }\n",
              "</style>\n",
              "<table border=\"1\" class=\"dataframe\">\n",
              "  <thead>\n",
              "    <tr style=\"text-align: right;\">\n",
              "      <th></th>\n",
              "      <th>customerID</th>\n",
              "      <th>gender</th>\n",
              "      <th>SeniorCitizen</th>\n",
              "      <th>Partner</th>\n",
              "      <th>Dependents</th>\n",
              "      <th>tenure</th>\n",
              "      <th>PhoneService</th>\n",
              "      <th>MultipleLines</th>\n",
              "      <th>InternetService</th>\n",
              "      <th>OnlineSecurity</th>\n",
              "      <th>...</th>\n",
              "      <th>DeviceProtection</th>\n",
              "      <th>TechSupport</th>\n",
              "      <th>StreamingTV</th>\n",
              "      <th>StreamingMovies</th>\n",
              "      <th>Contract</th>\n",
              "      <th>PaperlessBilling</th>\n",
              "      <th>PaymentMethod</th>\n",
              "      <th>MonthlyCharges</th>\n",
              "      <th>TotalCharges</th>\n",
              "      <th>Churn</th>\n",
              "    </tr>\n",
              "  </thead>\n",
              "  <tbody>\n",
              "    <tr>\n",
              "      <th>0</th>\n",
              "      <td>7590-VHVEG</td>\n",
              "      <td>Female</td>\n",
              "      <td>No</td>\n",
              "      <td>Yes</td>\n",
              "      <td>No</td>\n",
              "      <td>1</td>\n",
              "      <td>No</td>\n",
              "      <td>No phone service</td>\n",
              "      <td>DSL</td>\n",
              "      <td>No</td>\n",
              "      <td>...</td>\n",
              "      <td>No</td>\n",
              "      <td>No</td>\n",
              "      <td>No</td>\n",
              "      <td>No</td>\n",
              "      <td>Month-to-month</td>\n",
              "      <td>Yes</td>\n",
              "      <td>Electronic check</td>\n",
              "      <td>29.85</td>\n",
              "      <td>29.85</td>\n",
              "      <td>No</td>\n",
              "    </tr>\n",
              "    <tr>\n",
              "      <th>1</th>\n",
              "      <td>5575-GNVDE</td>\n",
              "      <td>Male</td>\n",
              "      <td>No</td>\n",
              "      <td>No</td>\n",
              "      <td>No</td>\n",
              "      <td>34</td>\n",
              "      <td>Yes</td>\n",
              "      <td>No</td>\n",
              "      <td>DSL</td>\n",
              "      <td>Yes</td>\n",
              "      <td>...</td>\n",
              "      <td>Yes</td>\n",
              "      <td>No</td>\n",
              "      <td>No</td>\n",
              "      <td>No</td>\n",
              "      <td>One year</td>\n",
              "      <td>No</td>\n",
              "      <td>Mailed check</td>\n",
              "      <td>56.95</td>\n",
              "      <td>1889.50</td>\n",
              "      <td>No</td>\n",
              "    </tr>\n",
              "    <tr>\n",
              "      <th>2</th>\n",
              "      <td>3668-QPYBK</td>\n",
              "      <td>Male</td>\n",
              "      <td>No</td>\n",
              "      <td>No</td>\n",
              "      <td>No</td>\n",
              "      <td>2</td>\n",
              "      <td>Yes</td>\n",
              "      <td>No</td>\n",
              "      <td>DSL</td>\n",
              "      <td>Yes</td>\n",
              "      <td>...</td>\n",
              "      <td>No</td>\n",
              "      <td>No</td>\n",
              "      <td>No</td>\n",
              "      <td>No</td>\n",
              "      <td>Month-to-month</td>\n",
              "      <td>Yes</td>\n",
              "      <td>Mailed check</td>\n",
              "      <td>53.85</td>\n",
              "      <td>108.15</td>\n",
              "      <td>Yes</td>\n",
              "    </tr>\n",
              "    <tr>\n",
              "      <th>3</th>\n",
              "      <td>7795-CFOCW</td>\n",
              "      <td>Male</td>\n",
              "      <td>No</td>\n",
              "      <td>No</td>\n",
              "      <td>No</td>\n",
              "      <td>45</td>\n",
              "      <td>No</td>\n",
              "      <td>No phone service</td>\n",
              "      <td>DSL</td>\n",
              "      <td>Yes</td>\n",
              "      <td>...</td>\n",
              "      <td>Yes</td>\n",
              "      <td>Yes</td>\n",
              "      <td>No</td>\n",
              "      <td>No</td>\n",
              "      <td>One year</td>\n",
              "      <td>No</td>\n",
              "      <td>Bank transfer (automatic)</td>\n",
              "      <td>42.30</td>\n",
              "      <td>1840.75</td>\n",
              "      <td>No</td>\n",
              "    </tr>\n",
              "    <tr>\n",
              "      <th>4</th>\n",
              "      <td>9237-HQITU</td>\n",
              "      <td>Female</td>\n",
              "      <td>No</td>\n",
              "      <td>No</td>\n",
              "      <td>No</td>\n",
              "      <td>2</td>\n",
              "      <td>Yes</td>\n",
              "      <td>No</td>\n",
              "      <td>Fiber optic</td>\n",
              "      <td>No</td>\n",
              "      <td>...</td>\n",
              "      <td>No</td>\n",
              "      <td>No</td>\n",
              "      <td>No</td>\n",
              "      <td>No</td>\n",
              "      <td>Month-to-month</td>\n",
              "      <td>Yes</td>\n",
              "      <td>Electronic check</td>\n",
              "      <td>70.70</td>\n",
              "      <td>151.65</td>\n",
              "      <td>Yes</td>\n",
              "    </tr>\n",
              "    <tr>\n",
              "      <th>...</th>\n",
              "      <td>...</td>\n",
              "      <td>...</td>\n",
              "      <td>...</td>\n",
              "      <td>...</td>\n",
              "      <td>...</td>\n",
              "      <td>...</td>\n",
              "      <td>...</td>\n",
              "      <td>...</td>\n",
              "      <td>...</td>\n",
              "      <td>...</td>\n",
              "      <td>...</td>\n",
              "      <td>...</td>\n",
              "      <td>...</td>\n",
              "      <td>...</td>\n",
              "      <td>...</td>\n",
              "      <td>...</td>\n",
              "      <td>...</td>\n",
              "      <td>...</td>\n",
              "      <td>...</td>\n",
              "      <td>...</td>\n",
              "      <td>...</td>\n",
              "    </tr>\n",
              "    <tr>\n",
              "      <th>7038</th>\n",
              "      <td>6840-RESVB</td>\n",
              "      <td>Male</td>\n",
              "      <td>No</td>\n",
              "      <td>Yes</td>\n",
              "      <td>Yes</td>\n",
              "      <td>24</td>\n",
              "      <td>Yes</td>\n",
              "      <td>Yes</td>\n",
              "      <td>DSL</td>\n",
              "      <td>Yes</td>\n",
              "      <td>...</td>\n",
              "      <td>Yes</td>\n",
              "      <td>Yes</td>\n",
              "      <td>Yes</td>\n",
              "      <td>Yes</td>\n",
              "      <td>One year</td>\n",
              "      <td>Yes</td>\n",
              "      <td>Mailed check</td>\n",
              "      <td>84.80</td>\n",
              "      <td>1990.50</td>\n",
              "      <td>No</td>\n",
              "    </tr>\n",
              "    <tr>\n",
              "      <th>7039</th>\n",
              "      <td>2234-XADUH</td>\n",
              "      <td>Female</td>\n",
              "      <td>No</td>\n",
              "      <td>Yes</td>\n",
              "      <td>Yes</td>\n",
              "      <td>72</td>\n",
              "      <td>Yes</td>\n",
              "      <td>Yes</td>\n",
              "      <td>Fiber optic</td>\n",
              "      <td>No</td>\n",
              "      <td>...</td>\n",
              "      <td>Yes</td>\n",
              "      <td>No</td>\n",
              "      <td>Yes</td>\n",
              "      <td>Yes</td>\n",
              "      <td>One year</td>\n",
              "      <td>Yes</td>\n",
              "      <td>Credit card (automatic)</td>\n",
              "      <td>103.20</td>\n",
              "      <td>7362.90</td>\n",
              "      <td>No</td>\n",
              "    </tr>\n",
              "    <tr>\n",
              "      <th>7040</th>\n",
              "      <td>4801-JZAZL</td>\n",
              "      <td>Female</td>\n",
              "      <td>No</td>\n",
              "      <td>Yes</td>\n",
              "      <td>Yes</td>\n",
              "      <td>11</td>\n",
              "      <td>No</td>\n",
              "      <td>No phone service</td>\n",
              "      <td>DSL</td>\n",
              "      <td>Yes</td>\n",
              "      <td>...</td>\n",
              "      <td>No</td>\n",
              "      <td>No</td>\n",
              "      <td>No</td>\n",
              "      <td>No</td>\n",
              "      <td>Month-to-month</td>\n",
              "      <td>Yes</td>\n",
              "      <td>Electronic check</td>\n",
              "      <td>29.60</td>\n",
              "      <td>346.45</td>\n",
              "      <td>No</td>\n",
              "    </tr>\n",
              "    <tr>\n",
              "      <th>7041</th>\n",
              "      <td>8361-LTMKD</td>\n",
              "      <td>Male</td>\n",
              "      <td>Yes</td>\n",
              "      <td>Yes</td>\n",
              "      <td>No</td>\n",
              "      <td>4</td>\n",
              "      <td>Yes</td>\n",
              "      <td>Yes</td>\n",
              "      <td>Fiber optic</td>\n",
              "      <td>No</td>\n",
              "      <td>...</td>\n",
              "      <td>No</td>\n",
              "      <td>No</td>\n",
              "      <td>No</td>\n",
              "      <td>No</td>\n",
              "      <td>Month-to-month</td>\n",
              "      <td>Yes</td>\n",
              "      <td>Mailed check</td>\n",
              "      <td>74.40</td>\n",
              "      <td>306.60</td>\n",
              "      <td>Yes</td>\n",
              "    </tr>\n",
              "    <tr>\n",
              "      <th>7042</th>\n",
              "      <td>3186-AJIEK</td>\n",
              "      <td>Male</td>\n",
              "      <td>No</td>\n",
              "      <td>No</td>\n",
              "      <td>No</td>\n",
              "      <td>66</td>\n",
              "      <td>Yes</td>\n",
              "      <td>No</td>\n",
              "      <td>Fiber optic</td>\n",
              "      <td>Yes</td>\n",
              "      <td>...</td>\n",
              "      <td>Yes</td>\n",
              "      <td>Yes</td>\n",
              "      <td>Yes</td>\n",
              "      <td>Yes</td>\n",
              "      <td>Two year</td>\n",
              "      <td>Yes</td>\n",
              "      <td>Bank transfer (automatic)</td>\n",
              "      <td>105.65</td>\n",
              "      <td>6844.50</td>\n",
              "      <td>No</td>\n",
              "    </tr>\n",
              "  </tbody>\n",
              "</table>\n",
              "<p>7043 rows × 21 columns</p>\n",
              "</div>"
            ],
            "text/plain": [
              "      customerID  gender SeniorCitizen Partner Dependents  tenure  \\\n",
              "0     7590-VHVEG  Female            No     Yes         No       1   \n",
              "1     5575-GNVDE    Male            No      No         No      34   \n",
              "2     3668-QPYBK    Male            No      No         No       2   \n",
              "3     7795-CFOCW    Male            No      No         No      45   \n",
              "4     9237-HQITU  Female            No      No         No       2   \n",
              "...          ...     ...           ...     ...        ...     ...   \n",
              "7038  6840-RESVB    Male            No     Yes        Yes      24   \n",
              "7039  2234-XADUH  Female            No     Yes        Yes      72   \n",
              "7040  4801-JZAZL  Female            No     Yes        Yes      11   \n",
              "7041  8361-LTMKD    Male           Yes     Yes         No       4   \n",
              "7042  3186-AJIEK    Male            No      No         No      66   \n",
              "\n",
              "     PhoneService     MultipleLines InternetService OnlineSecurity  ...  \\\n",
              "0              No  No phone service             DSL             No  ...   \n",
              "1             Yes                No             DSL            Yes  ...   \n",
              "2             Yes                No             DSL            Yes  ...   \n",
              "3              No  No phone service             DSL            Yes  ...   \n",
              "4             Yes                No     Fiber optic             No  ...   \n",
              "...           ...               ...             ...            ...  ...   \n",
              "7038          Yes               Yes             DSL            Yes  ...   \n",
              "7039          Yes               Yes     Fiber optic             No  ...   \n",
              "7040           No  No phone service             DSL            Yes  ...   \n",
              "7041          Yes               Yes     Fiber optic             No  ...   \n",
              "7042          Yes                No     Fiber optic            Yes  ...   \n",
              "\n",
              "     DeviceProtection TechSupport StreamingTV StreamingMovies        Contract  \\\n",
              "0                  No          No          No              No  Month-to-month   \n",
              "1                 Yes          No          No              No        One year   \n",
              "2                  No          No          No              No  Month-to-month   \n",
              "3                 Yes         Yes          No              No        One year   \n",
              "4                  No          No          No              No  Month-to-month   \n",
              "...               ...         ...         ...             ...             ...   \n",
              "7038              Yes         Yes         Yes             Yes        One year   \n",
              "7039              Yes          No         Yes             Yes        One year   \n",
              "7040               No          No          No              No  Month-to-month   \n",
              "7041               No          No          No              No  Month-to-month   \n",
              "7042              Yes         Yes         Yes             Yes        Two year   \n",
              "\n",
              "     PaperlessBilling              PaymentMethod MonthlyCharges  TotalCharges  \\\n",
              "0                 Yes           Electronic check          29.85         29.85   \n",
              "1                  No               Mailed check          56.95       1889.50   \n",
              "2                 Yes               Mailed check          53.85        108.15   \n",
              "3                  No  Bank transfer (automatic)          42.30       1840.75   \n",
              "4                 Yes           Electronic check          70.70        151.65   \n",
              "...               ...                        ...            ...           ...   \n",
              "7038              Yes               Mailed check          84.80       1990.50   \n",
              "7039              Yes    Credit card (automatic)         103.20       7362.90   \n",
              "7040              Yes           Electronic check          29.60        346.45   \n",
              "7041              Yes               Mailed check          74.40        306.60   \n",
              "7042              Yes  Bank transfer (automatic)         105.65       6844.50   \n",
              "\n",
              "      Churn  \n",
              "0        No  \n",
              "1        No  \n",
              "2       Yes  \n",
              "3        No  \n",
              "4       Yes  \n",
              "...     ...  \n",
              "7038     No  \n",
              "7039     No  \n",
              "7040     No  \n",
              "7041    Yes  \n",
              "7042     No  \n",
              "\n",
              "[7043 rows x 21 columns]"
            ]
          },
          "execution_count": 14,
          "metadata": {},
          "output_type": "execute_result"
        }
      ],
      "source": [
        "df.drop_duplicates()"
      ]
    },
    {
      "cell_type": "code",
      "execution_count": 15,
      "metadata": {
        "colab": {
          "base_uri": "https://localhost:8080/",
          "height": 742
        },
        "id": "GMqTGlLmO7AC",
        "outputId": "87cd16d4-f012-4dd3-b0b1-ef8123c6f020"
      },
      "outputs": [
        {
          "data": {
            "application/vnd.microsoft.datawrangler.viewer.v0+json": {
              "columns": [
                {
                  "name": "index",
                  "rawType": "object",
                  "type": "string"
                },
                {
                  "name": "0",
                  "rawType": "int64",
                  "type": "integer"
                }
              ],
              "ref": "0bc04a86-e36d-44da-9c30-b69b9298276c",
              "rows": [
                [
                  "customerID",
                  "0"
                ],
                [
                  "gender",
                  "0"
                ],
                [
                  "SeniorCitizen",
                  "0"
                ],
                [
                  "Partner",
                  "0"
                ],
                [
                  "Dependents",
                  "0"
                ],
                [
                  "tenure",
                  "0"
                ],
                [
                  "PhoneService",
                  "0"
                ],
                [
                  "MultipleLines",
                  "0"
                ],
                [
                  "InternetService",
                  "0"
                ],
                [
                  "OnlineSecurity",
                  "0"
                ],
                [
                  "OnlineBackup",
                  "0"
                ],
                [
                  "DeviceProtection",
                  "0"
                ],
                [
                  "TechSupport",
                  "0"
                ],
                [
                  "StreamingTV",
                  "0"
                ],
                [
                  "StreamingMovies",
                  "0"
                ],
                [
                  "Contract",
                  "0"
                ],
                [
                  "PaperlessBilling",
                  "0"
                ],
                [
                  "PaymentMethod",
                  "0"
                ],
                [
                  "MonthlyCharges",
                  "0"
                ],
                [
                  "TotalCharges",
                  "11"
                ],
                [
                  "Churn",
                  "0"
                ]
              ],
              "shape": {
                "columns": 1,
                "rows": 21
              }
            },
            "text/plain": [
              "customerID           0\n",
              "gender               0\n",
              "SeniorCitizen        0\n",
              "Partner              0\n",
              "Dependents           0\n",
              "tenure               0\n",
              "PhoneService         0\n",
              "MultipleLines        0\n",
              "InternetService      0\n",
              "OnlineSecurity       0\n",
              "OnlineBackup         0\n",
              "DeviceProtection     0\n",
              "TechSupport          0\n",
              "StreamingTV          0\n",
              "StreamingMovies      0\n",
              "Contract             0\n",
              "PaperlessBilling     0\n",
              "PaymentMethod        0\n",
              "MonthlyCharges       0\n",
              "TotalCharges        11\n",
              "Churn                0\n",
              "dtype: int64"
            ]
          },
          "execution_count": 15,
          "metadata": {},
          "output_type": "execute_result"
        }
      ],
      "source": [
        "df.isnull().sum()"
      ]
    },
    {
      "cell_type": "code",
      "execution_count": 16,
      "metadata": {
        "colab": {
          "base_uri": "https://localhost:8080/"
        },
        "id": "8xpt3-K1PA2v",
        "outputId": "8b971d9a-2aec-4f73-fac8-29e353cb929a"
      },
      "outputs": [
        {
          "data": {
            "text/plain": [
              "11"
            ]
          },
          "execution_count": 16,
          "metadata": {},
          "output_type": "execute_result"
        }
      ],
      "source": [
        "df['TotalCharges'].isnull().sum()"
      ]
    },
    {
      "cell_type": "code",
      "execution_count": 17,
      "metadata": {
        "colab": {
          "base_uri": "https://localhost:8080/"
        },
        "id": "7qkZuRoaPDca",
        "outputId": "17e493be-6ea3-4f5b-f7ed-e42158e0a60e"
      },
      "outputs": [
        {
          "name": "stdout",
          "output_type": "stream",
          "text": [
            "      customerID  TotalCharges\n",
            "488   4472-LVYGI           NaN\n",
            "753   3115-CZMZD           NaN\n",
            "936   5709-LVOEQ           NaN\n",
            "1082  4367-NUYAO           NaN\n",
            "1340  1371-DWPAZ           NaN\n",
            "3331  7644-OMVMY           NaN\n",
            "3826  3213-VVOLG           NaN\n",
            "4380  2520-SGTTA           NaN\n",
            "5218  2923-ARZLG           NaN\n",
            "6670  4075-WKNIU           NaN\n",
            "6754  2775-SEFEE           NaN\n"
          ]
        }
      ],
      "source": [
        "problem_rows = df[pd.to_numeric(df['TotalCharges'], errors='coerce').isna()]\n",
        "print(problem_rows[['customerID', 'TotalCharges']])"
      ]
    },
    {
      "cell_type": "code",
      "execution_count": 18,
      "metadata": {
        "colab": {
          "base_uri": "https://localhost:8080/"
        },
        "id": "rdlP0MpPPOsC",
        "outputId": "6e541da9-b7a3-412d-f76d-031d2ba853be"
      },
      "outputs": [
        {
          "data": {
            "text/plain": [
              "1397.475"
            ]
          },
          "execution_count": 18,
          "metadata": {},
          "output_type": "execute_result"
        }
      ],
      "source": [
        "df['TotalCharges'].median()"
      ]
    },
    {
      "cell_type": "code",
      "execution_count": 19,
      "metadata": {
        "id": "S2AnouthPYtQ"
      },
      "outputs": [],
      "source": [
        "df['TotalCharges'] = df['TotalCharges'].fillna(df['TotalCharges'].median())"
      ]
    },
    {
      "cell_type": "code",
      "execution_count": 20,
      "metadata": {
        "colab": {
          "base_uri": "https://localhost:8080/",
          "height": 742
        },
        "id": "N7mWi407PbxX",
        "outputId": "ad391c30-9e6b-4459-9731-e5503b320c6b"
      },
      "outputs": [
        {
          "data": {
            "application/vnd.microsoft.datawrangler.viewer.v0+json": {
              "columns": [
                {
                  "name": "index",
                  "rawType": "object",
                  "type": "string"
                },
                {
                  "name": "0",
                  "rawType": "int64",
                  "type": "integer"
                }
              ],
              "ref": "24a9efdb-bd2f-4472-b202-a0d90a510900",
              "rows": [
                [
                  "customerID",
                  "0"
                ],
                [
                  "gender",
                  "0"
                ],
                [
                  "SeniorCitizen",
                  "0"
                ],
                [
                  "Partner",
                  "0"
                ],
                [
                  "Dependents",
                  "0"
                ],
                [
                  "tenure",
                  "0"
                ],
                [
                  "PhoneService",
                  "0"
                ],
                [
                  "MultipleLines",
                  "0"
                ],
                [
                  "InternetService",
                  "0"
                ],
                [
                  "OnlineSecurity",
                  "0"
                ],
                [
                  "OnlineBackup",
                  "0"
                ],
                [
                  "DeviceProtection",
                  "0"
                ],
                [
                  "TechSupport",
                  "0"
                ],
                [
                  "StreamingTV",
                  "0"
                ],
                [
                  "StreamingMovies",
                  "0"
                ],
                [
                  "Contract",
                  "0"
                ],
                [
                  "PaperlessBilling",
                  "0"
                ],
                [
                  "PaymentMethod",
                  "0"
                ],
                [
                  "MonthlyCharges",
                  "0"
                ],
                [
                  "TotalCharges",
                  "0"
                ],
                [
                  "Churn",
                  "0"
                ]
              ],
              "shape": {
                "columns": 1,
                "rows": 21
              }
            },
            "text/plain": [
              "customerID          0\n",
              "gender              0\n",
              "SeniorCitizen       0\n",
              "Partner             0\n",
              "Dependents          0\n",
              "tenure              0\n",
              "PhoneService        0\n",
              "MultipleLines       0\n",
              "InternetService     0\n",
              "OnlineSecurity      0\n",
              "OnlineBackup        0\n",
              "DeviceProtection    0\n",
              "TechSupport         0\n",
              "StreamingTV         0\n",
              "StreamingMovies     0\n",
              "Contract            0\n",
              "PaperlessBilling    0\n",
              "PaymentMethod       0\n",
              "MonthlyCharges      0\n",
              "TotalCharges        0\n",
              "Churn               0\n",
              "dtype: int64"
            ]
          },
          "execution_count": 20,
          "metadata": {},
          "output_type": "execute_result"
        }
      ],
      "source": [
        "df.isnull().sum()"
      ]
    },
    {
      "cell_type": "code",
      "execution_count": 21,
      "metadata": {
        "colab": {
          "base_uri": "https://localhost:8080/"
        },
        "id": "V3Xs3usyPi38",
        "outputId": "ea90c004-5543-49eb-9834-6cc3f9d1affa"
      },
      "outputs": [
        {
          "data": {
            "text/plain": [
              "Index(['customerID', 'gender', 'SeniorCitizen', 'Partner', 'Dependents',\n",
              "       'tenure', 'PhoneService', 'MultipleLines', 'InternetService',\n",
              "       'OnlineSecurity', 'OnlineBackup', 'DeviceProtection', 'TechSupport',\n",
              "       'StreamingTV', 'StreamingMovies', 'Contract', 'PaperlessBilling',\n",
              "       'PaymentMethod', 'MonthlyCharges', 'TotalCharges', 'Churn'],\n",
              "      dtype='object')"
            ]
          },
          "execution_count": 21,
          "metadata": {},
          "output_type": "execute_result"
        }
      ],
      "source": [
        "df.columns"
      ]
    },
    {
      "cell_type": "code",
      "execution_count": 22,
      "metadata": {
        "colab": {
          "base_uri": "https://localhost:8080/"
        },
        "id": "G4htn-k1QKxg",
        "outputId": "91035d85-b4df-4a26-d5e7-7ce91a3ee484"
      },
      "outputs": [
        {
          "data": {
            "text/plain": [
              "Index(['gender', 'SeniorCitizen', 'Partner', 'Dependents', 'tenure',\n",
              "       'PhoneService', 'MultipleLines', 'InternetService', 'OnlineSecurity',\n",
              "       'OnlineBackup', 'DeviceProtection', 'TechSupport', 'StreamingTV',\n",
              "       'StreamingMovies', 'Contract', 'PaperlessBilling', 'PaymentMethod',\n",
              "       'MonthlyCharges', 'TotalCharges', 'Churn'],\n",
              "      dtype='object')"
            ]
          },
          "execution_count": 22,
          "metadata": {},
          "output_type": "execute_result"
        }
      ],
      "source": [
        "# Create a copy to preserve original\n",
        "df_encoded = df.copy()\n",
        "\n",
        "# Drop customerID if present\n",
        "customer_ids = df_encoded['customerID']\n",
        "df_encoded.drop('customerID', axis=1, inplace=True)\n",
        "\n",
        "df_encoded.columns"
      ]
    },
    {
      "cell_type": "code",
      "execution_count": 23,
      "metadata": {
        "id": "Cg7T8HVyQTZg"
      },
      "outputs": [],
      "source": [
        "from sklearn.preprocessing import LabelEncoder\n",
        "from sklearn.model_selection import train_test_split\n",
        "\n",
        "# Create TenureGroup before encoding or splitting\n",
        "max_tenure = df_encoded['tenure'].max()\n",
        "last_bin = max(74, max_tenure + 1)\n",
        "df_encoded['TenureGroup'] = pd.cut(df_encoded['tenure'], bins=[0, 12, 24, 36, 48, 60, 73, last_bin],\n",
        "                           labels=['0-12', '13-24', '25-36', '37-48', '49-60', '61-73', '74+'], right = False)\n",
        "\n",
        "# Encode binary categorical columns\n",
        "\n",
        "binary_cols = ['gender', 'SeniorCitizen', 'Partner', 'Dependents', 'PhoneService', 'PaperlessBilling', 'Churn']\n",
        "le = LabelEncoder()\n",
        "for col in binary_cols:\n",
        "    df_encoded[col] = le.fit_transform(df_encoded[col])\n",
        "\n",
        "# One-hot encode remaining object columns\n",
        "remaining_cat_cols = df_encoded.select_dtypes(include='object').columns.tolist()\n",
        "df_encoded = pd.get_dummies(df_encoded, columns=remaining_cat_cols, drop_first=True)\n",
        "\n",
        "# Split dataset\n",
        "def split_dataset(df_encoded, target_column = 'Churn', drop_columns = None, test_size=0.2, random_state=42):\n",
        "  X = df_encoded.drop(drop_columns, axis=1)\n",
        "  y = df_encoded[target_column]\n",
        "  X_train, X_test, y_train, y_test = train_test_split(X, y, test_size=test_size, random_state=random_state)\n",
        "  return X_train, X_test, y_train, y_test\n",
        "X_train, X_test, y_train, y_test = split_dataset(df_encoded, drop_columns=['Churn','TenureGroup'])\n"
      ]
    }
  ],
  "metadata": {
    "colab": {
      "provenance": []
    },
    "kernelspec": {
      "display_name": "Python 3",
      "name": "python3"
    },
    "language_info": {
      "codemirror_mode": {
        "name": "ipython",
        "version": 3
      },
      "file_extension": ".py",
      "mimetype": "text/x-python",
      "name": "python",
      "nbconvert_exporter": "python",
      "pygments_lexer": "ipython3",
      "version": "3.11.9"
    }
  },
  "nbformat": 4,
  "nbformat_minor": 0
}
