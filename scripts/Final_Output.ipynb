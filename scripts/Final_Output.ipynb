{
  "nbformat": 4,
  "nbformat_minor": 0,
  "metadata": {
    "colab": {
      "provenance": []
    },
    "kernelspec": {
      "name": "python3",
      "display_name": "Python 3"
    },
    "language_info": {
      "name": "python"
    }
  },
  "cells": [
    {
      "cell_type": "markdown",
      "source": [
        "Final Output"
      ],
      "metadata": {
        "id": "yFJEoQJSFQ3m"
      }
    },
    {
      "cell_type": "code",
      "source": [
        "from openpyxl import Workbook, load_workbook\n",
        "from openpyxl.drawing.image import Image as XLImage\n",
        "from google.colab import files\n",
        "\n",
        "wb = Workbook()\n",
        "wb.remove(wb.active)\n",
        "\n",
        "# Add data sheets\n",
        "for file_name, sheet_name in [\n",
        "    (\"model_comparison.xlsx\", \"Model Comparison\"),\n",
        "    (\"merged_model_summary.xlsx\", \"Model Summary\"),\n",
        "    (\"confusion_breakdown.xlsx\", \"Confusion Matrix\"),\n",
        "    (\"threshold_analysis.xlsx\", \"Threshold Analysis\"),\n",
        "    (\"combined_savings_summary.xlsx\", \"Savings Summary\")\n",
        "]:\n",
        "    temp_wb = load_workbook(file_name)\n",
        "    temp_ws = temp_wb.active\n",
        "    new_ws = wb.create_sheet(title=sheet_name)\n",
        "    for row in temp_ws.iter_rows(values_only=True):\n",
        "        new_ws.append(row)\n",
        "\n",
        "# Add charts\n",
        "for img_file, sheet_name in [\n",
        "    (\"roc_curve_comparison.png\", \"ROC Curve\"),\n",
        "    (\"precision_recall_curve.png\", \"PR Curve\"),\n",
        "    (\"shap_summary.png\", \"SHAP Summary\"),\n",
        "    (\"savings_grouped_bar_chart.png\", \"Savings Chart\"),\n",
        "    (\"model_performance_bar_chart.png\", \"Performance Chart\")\n",
        "]:\n",
        "    ws = wb.create_sheet(title=sheet_name)\n",
        "    img = XLImage(img_file)\n",
        "    ws.add_image(img, \"B2\")\n",
        "\n",
        "# Add business recommendations\n",
        "recommendations = [\n",
        "    \"Focus retention efforts on customers with short tenure (0–12 months).\",\n",
        "    \"Offer incentives for long-term contracts to reduce churn.\",\n",
        "    \"Target high monthly charge customers with loyalty programs.\",\n",
        "    \"Improve service quality for customers using fiber or DSL.\"\n",
        "]\n",
        "ws = wb.create_sheet(title=\"Recommendations\")\n",
        "ws.append([\"Business Recommendations\"])\n",
        "for rec in recommendations:\n",
        "    ws.append([rec])\n",
        "\n",
        "# Save and download\n",
        "wb.save(\"dashboard_summary.xlsx\")\n",
        "files.download(\"dashboard_summary.xlsx\")\n"
      ],
      "metadata": {
        "colab": {
          "base_uri": "https://localhost:8080/",
          "height": 17
        },
        "id": "fwhTRpCvEokI",
        "outputId": "337e70d4-4c27-4f3a-9eab-db7d92ca4afd"
      },
      "execution_count": 37,
      "outputs": [
        {
          "output_type": "display_data",
          "data": {
            "text/plain": [
              "<IPython.core.display.Javascript object>"
            ],
            "application/javascript": [
              "\n",
              "    async function download(id, filename, size) {\n",
              "      if (!google.colab.kernel.accessAllowed) {\n",
              "        return;\n",
              "      }\n",
              "      const div = document.createElement('div');\n",
              "      const label = document.createElement('label');\n",
              "      label.textContent = `Downloading \"${filename}\": `;\n",
              "      div.appendChild(label);\n",
              "      const progress = document.createElement('progress');\n",
              "      progress.max = size;\n",
              "      div.appendChild(progress);\n",
              "      document.body.appendChild(div);\n",
              "\n",
              "      const buffers = [];\n",
              "      let downloaded = 0;\n",
              "\n",
              "      const channel = await google.colab.kernel.comms.open(id);\n",
              "      // Send a message to notify the kernel that we're ready.\n",
              "      channel.send({})\n",
              "\n",
              "      for await (const message of channel.messages) {\n",
              "        // Send a message to notify the kernel that we're ready.\n",
              "        channel.send({})\n",
              "        if (message.buffers) {\n",
              "          for (const buffer of message.buffers) {\n",
              "            buffers.push(buffer);\n",
              "            downloaded += buffer.byteLength;\n",
              "            progress.value = downloaded;\n",
              "          }\n",
              "        }\n",
              "      }\n",
              "      const blob = new Blob(buffers, {type: 'application/binary'});\n",
              "      const a = document.createElement('a');\n",
              "      a.href = window.URL.createObjectURL(blob);\n",
              "      a.download = filename;\n",
              "      div.appendChild(a);\n",
              "      a.click();\n",
              "      div.remove();\n",
              "    }\n",
              "  "
            ]
          },
          "metadata": {}
        },
        {
          "output_type": "display_data",
          "data": {
            "text/plain": [
              "<IPython.core.display.Javascript object>"
            ],
            "application/javascript": [
              "download(\"download_cf864e53-4b7b-4d2f-bb3d-5051d8475e4f\", \"dashboard_summary.xlsx\", 277205)"
            ]
          },
          "metadata": {}
        }
      ]
    }
  ]
}