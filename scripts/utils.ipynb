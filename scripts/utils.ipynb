{
  "nbformat": 4,
  "nbformat_minor": 0,
  "metadata": {
    "colab": {
      "provenance": []
    },
    "kernelspec": {
      "name": "python3",
      "display_name": "Python 3"
    },
    "language_info": {
      "name": "python"
    }
  },
  "cells": [
    {
      "cell_type": "markdown",
      "source": [
        "Utils"
      ],
      "metadata": {
        "id": "yFJEoQJSFQ3m"
      }
    },
    {
      "cell_type": "code",
      "source": [
        "def clean_dataframe(df):\n",
        "    def clean_column(col):\n",
        "        if col.dtype == 'object':\n",
        "            return col.str.strip().replace('', np.nan)\n",
        "        elif pd.api.types.is_numeric_dtype(col):\n",
        "            return col.replace([np.inf, -np.inf], np.nan)\n",
        "        else:\n",
        "            return col\n",
        "    return df.apply(clean_column)\n",
        "\n",
        "def encode_binary_columns(df, columns):\n",
        "    from sklearn.preprocessing import LabelEncoder\n",
        "    le = LabelEncoder()\n",
        "    for col in columns:\n",
        "        df[col] = le.fit_transform(df[col])\n",
        "    return df\n",
        "\n",
        "def create_tenure_group(df, col='tenure'):\n",
        "    bins = [0, 12, 24, 36, 48, 60, 73, 100]\n",
        "    labels = ['0-12', '13-24', '25-36', '37-48', '49-60', '61-73', '74+']\n",
        "    df['TenureGroup'] = pd.cut(df[col], bins=bins, labels=labels, right=False)\n",
        "    return df\n",
        "\n",
        "def split_dataset(df, target='Churn', drop_cols=None, test_size=0.2, random_state=42):\n",
        "    from sklearn.model_selection import train_test_split\n",
        "    X = df.drop(drop_cols, axis=1)\n",
        "    y = df[target]\n",
        "    return train_test_split(X, y, test_size=test_size, random_state=random_state)\n",
        "\n",
        "def get_confusion_details(y_true, y_pred):\n",
        "    tn, fp, fn, tp = confusion_matrix(y_true, y_pred).ravel()\n",
        "    return pd.Series({\n",
        "        \"True Positives\": tp,\n",
        "        \"False Positives\": fp,\n",
        "        \"False Negatives\": fn,\n",
        "        \"True Negatives\": tn\n",
        "    })\n"
      ],
      "metadata": {
        "id": "fwhTRpCvEokI"
      },
      "execution_count": 38,
      "outputs": []
    }
  ]
}